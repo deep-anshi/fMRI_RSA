{
 "cells": [
  {
   "cell_type": "code",
   "execution_count": 1,
   "metadata": {},
   "outputs": [
    {
     "name": "stderr",
     "output_type": "stream",
     "text": [
      "/opt/conda/lib/python3.7/site-packages/sklearn/externals/joblib/__init__.py:15: DeprecationWarning: sklearn.externals.joblib is deprecated in 0.21 and will be removed in 0.23. Please import this functionality directly from joblib, which can be installed with: pip install joblib. If this warning is raised when loading pickled models, you may need to re-serialize those models with scikit-learn 0.21+.\n",
      "  warnings.warn(msg, category=DeprecationWarning)\n"
     ]
    }
   ],
   "source": [
    "%matplotlib inline\n",
    "\n",
    "import os,json,glob,sys\n",
    "import numpy as np\n",
    "from numpy import asarray\n",
    "import pandas as pd\n",
    "import matplotlib.pyplot as plt\n",
    "import seaborn as sns\n",
    "\n",
    "from nltools.data import Brain_Data, Adjacency\n",
    "from nltools.mask import expand_mask\n",
    "from nltools.stats import fdr, threshold, fisher_r_to_z, one_sample_permutation\n",
    "from sklearn.metrics import pairwise_distances\n",
    "\n",
    "from nilearn.plotting import plot_glass_brain, plot_stat_map\n",
    "from nilearn import datasets\n",
    "from nilearn import input_data\n",
    "import nilearn\n",
    "import nilearn.plotting\n",
    "from nilearn import image\n",
    "from nilearn.image import mean_img\n",
    "from nilearn.image import threshold_img\n",
    "from nilearn import plotting\n",
    "from nilearn.regions import connected_regions\n",
    "from nilearn.regions import RegionExtractor\n",
    "from nilearn.image import concat_imgs, index_img\n",
    "from nilearn.plotting import find_xyz_cut_coords\n",
    "\n",
    "import nipype.algorithms.modelgen as model   # model generation\n",
    "from  nipype.interfaces import fsl, spm   \n",
    "from nipype.interfaces.base import Bunch\n",
    "import nipype.interfaces.spm as spm\n",
    "\n",
    "import nibabel\n"
   ]
  },
  {
   "cell_type": "code",
   "execution_count": 4,
   "metadata": {},
   "outputs": [],
   "source": [
    "data_dir = '/home/jovyan/ClassData/LabResults'\n",
    "mask_dir = '/home/jovyan/ClassData/custom_modelling'"
   ]
  },
  {
   "cell_type": "code",
   "execution_count": 5,
   "metadata": {},
   "outputs": [],
   "source": [
    "# load one participant's data\n",
    "sub_list = ['sid000006', 'sid000118', 'sid000689', 'sid000747','sid001548',\n",
    "            'sid001550','sid001551','sid001560','sid001561','sid001562']\n",
    "sub_list.sort()\n",
    "sub = sub_list[0]"
   ]
  },
  {
   "cell_type": "code",
   "execution_count": 6,
   "metadata": {},
   "outputs": [
    {
     "data": {
      "text/plain": [
       "['sid000006',\n",
       " 'sid000118',\n",
       " 'sid000689',\n",
       " 'sid000747',\n",
       " 'sid001548',\n",
       " 'sid001550',\n",
       " 'sid001551',\n",
       " 'sid001560',\n",
       " 'sid001561',\n",
       " 'sid001562']"
      ]
     },
     "execution_count": 6,
     "metadata": {},
     "output_type": "execute_result"
    }
   ],
   "source": [
    "sub_list"
   ]
  },
  {
   "cell_type": "code",
   "execution_count": 7,
   "metadata": {},
   "outputs": [],
   "source": [
    "file_list = glob.glob(os.path.join(data_dir, '*.nii.gz'))\n",
    "f = glob.glob(os.path.join(data_dir, '*School vs. others.nii.gz'))\n",
    "file_list = [item for item in file_list if item not in f]\n",
    "file_list.sort()\n",
    "conditions =  ['Career', 'Event', 'School', 'Social']"
   ]
  },
  {
   "cell_type": "code",
   "execution_count": 8,
   "metadata": {},
   "outputs": [],
   "source": [
    "#!find /home/jovyan/ClassData/LabResults/ -type f -name \"*.nii\" -exec mv {} {}.gz \\;"
   ]
  },
  {
   "cell_type": "code",
   "execution_count": 9,
   "metadata": {},
   "outputs": [
    {
     "data": {
      "text/plain": [
       "['/home/jovyan/ClassData/LabResults/sid000006_1_Career.nii.gz',\n",
       " '/home/jovyan/ClassData/LabResults/sid000006_1_Event.nii.gz',\n",
       " '/home/jovyan/ClassData/LabResults/sid000006_1_School.nii.gz',\n",
       " '/home/jovyan/ClassData/LabResults/sid000006_1_Social.nii.gz',\n",
       " '/home/jovyan/ClassData/LabResults/sid000006_2_Career.nii.gz',\n",
       " '/home/jovyan/ClassData/LabResults/sid000006_2_Event.nii.gz',\n",
       " '/home/jovyan/ClassData/LabResults/sid000006_2_School.nii.gz',\n",
       " '/home/jovyan/ClassData/LabResults/sid000006_2_Social.nii.gz',\n",
       " '/home/jovyan/ClassData/LabResults/sid000006_3_Career.nii.gz',\n",
       " '/home/jovyan/ClassData/LabResults/sid000006_3_Event.nii.gz',\n",
       " '/home/jovyan/ClassData/LabResults/sid000006_3_School.nii.gz',\n",
       " '/home/jovyan/ClassData/LabResults/sid000006_3_Social.nii.gz',\n",
       " '/home/jovyan/ClassData/LabResults/sid000118_1_Career.nii.gz',\n",
       " '/home/jovyan/ClassData/LabResults/sid000118_1_Event.nii.gz',\n",
       " '/home/jovyan/ClassData/LabResults/sid000118_1_School.nii.gz',\n",
       " '/home/jovyan/ClassData/LabResults/sid000118_1_Social.nii.gz',\n",
       " '/home/jovyan/ClassData/LabResults/sid000118_2_Career.nii.gz',\n",
       " '/home/jovyan/ClassData/LabResults/sid000118_2_Event.nii.gz',\n",
       " '/home/jovyan/ClassData/LabResults/sid000118_2_School.nii.gz',\n",
       " '/home/jovyan/ClassData/LabResults/sid000118_2_Social.nii.gz',\n",
       " '/home/jovyan/ClassData/LabResults/sid000118_3_Career.nii.gz',\n",
       " '/home/jovyan/ClassData/LabResults/sid000118_3_Event.nii.gz',\n",
       " '/home/jovyan/ClassData/LabResults/sid000118_3_School.nii.gz',\n",
       " '/home/jovyan/ClassData/LabResults/sid000118_3_Social.nii.gz',\n",
       " '/home/jovyan/ClassData/LabResults/sid000689_1_Career.nii.gz',\n",
       " '/home/jovyan/ClassData/LabResults/sid000689_1_Event.nii.gz',\n",
       " '/home/jovyan/ClassData/LabResults/sid000689_1_School.nii.gz',\n",
       " '/home/jovyan/ClassData/LabResults/sid000689_1_Social.nii.gz',\n",
       " '/home/jovyan/ClassData/LabResults/sid000689_2_Career.nii.gz',\n",
       " '/home/jovyan/ClassData/LabResults/sid000689_2_Event.nii.gz',\n",
       " '/home/jovyan/ClassData/LabResults/sid000689_2_School.nii.gz',\n",
       " '/home/jovyan/ClassData/LabResults/sid000689_2_Social.nii.gz',\n",
       " '/home/jovyan/ClassData/LabResults/sid000689_3_Career.nii.gz',\n",
       " '/home/jovyan/ClassData/LabResults/sid000689_3_Event.nii.gz',\n",
       " '/home/jovyan/ClassData/LabResults/sid000689_3_School.nii.gz',\n",
       " '/home/jovyan/ClassData/LabResults/sid000689_3_Social.nii.gz',\n",
       " '/home/jovyan/ClassData/LabResults/sid000747_1_Career.nii.gz',\n",
       " '/home/jovyan/ClassData/LabResults/sid000747_1_Event.nii.gz',\n",
       " '/home/jovyan/ClassData/LabResults/sid000747_1_School.nii.gz',\n",
       " '/home/jovyan/ClassData/LabResults/sid000747_1_Social.nii.gz',\n",
       " '/home/jovyan/ClassData/LabResults/sid000747_2_Career.nii.gz',\n",
       " '/home/jovyan/ClassData/LabResults/sid000747_2_Event.nii.gz',\n",
       " '/home/jovyan/ClassData/LabResults/sid000747_2_School.nii.gz',\n",
       " '/home/jovyan/ClassData/LabResults/sid000747_2_Social.nii.gz',\n",
       " '/home/jovyan/ClassData/LabResults/sid000747_3_Career.nii.gz',\n",
       " '/home/jovyan/ClassData/LabResults/sid000747_3_Event.nii.gz',\n",
       " '/home/jovyan/ClassData/LabResults/sid000747_3_School.nii.gz',\n",
       " '/home/jovyan/ClassData/LabResults/sid000747_3_Social.nii.gz',\n",
       " '/home/jovyan/ClassData/LabResults/sid001548_1_Career.nii.gz',\n",
       " '/home/jovyan/ClassData/LabResults/sid001548_1_Event.nii.gz',\n",
       " '/home/jovyan/ClassData/LabResults/sid001548_1_School.nii.gz',\n",
       " '/home/jovyan/ClassData/LabResults/sid001548_1_Social.nii.gz',\n",
       " '/home/jovyan/ClassData/LabResults/sid001548_2_Career.nii.gz',\n",
       " '/home/jovyan/ClassData/LabResults/sid001548_2_Event.nii.gz',\n",
       " '/home/jovyan/ClassData/LabResults/sid001548_2_School.nii.gz',\n",
       " '/home/jovyan/ClassData/LabResults/sid001548_2_Social.nii.gz',\n",
       " '/home/jovyan/ClassData/LabResults/sid001548_3_Career.nii.gz',\n",
       " '/home/jovyan/ClassData/LabResults/sid001548_3_Event.nii.gz',\n",
       " '/home/jovyan/ClassData/LabResults/sid001548_3_School.nii.gz',\n",
       " '/home/jovyan/ClassData/LabResults/sid001548_3_Social.nii.gz',\n",
       " '/home/jovyan/ClassData/LabResults/sid001550_1_Career.nii.gz',\n",
       " '/home/jovyan/ClassData/LabResults/sid001550_1_Event.nii.gz',\n",
       " '/home/jovyan/ClassData/LabResults/sid001550_1_School.nii.gz',\n",
       " '/home/jovyan/ClassData/LabResults/sid001550_1_Social.nii.gz',\n",
       " '/home/jovyan/ClassData/LabResults/sid001550_2_Career.nii.gz',\n",
       " '/home/jovyan/ClassData/LabResults/sid001550_2_Event.nii.gz',\n",
       " '/home/jovyan/ClassData/LabResults/sid001550_2_School.nii.gz',\n",
       " '/home/jovyan/ClassData/LabResults/sid001550_2_Social.nii.gz',\n",
       " '/home/jovyan/ClassData/LabResults/sid001550_3_Career.nii.gz',\n",
       " '/home/jovyan/ClassData/LabResults/sid001550_3_Event.nii.gz',\n",
       " '/home/jovyan/ClassData/LabResults/sid001550_3_School.nii.gz',\n",
       " '/home/jovyan/ClassData/LabResults/sid001550_3_Social.nii.gz',\n",
       " '/home/jovyan/ClassData/LabResults/sid001551_1_Career.nii.gz',\n",
       " '/home/jovyan/ClassData/LabResults/sid001551_1_Event.nii.gz',\n",
       " '/home/jovyan/ClassData/LabResults/sid001551_1_School.nii.gz',\n",
       " '/home/jovyan/ClassData/LabResults/sid001551_1_Social.nii.gz',\n",
       " '/home/jovyan/ClassData/LabResults/sid001551_2_Career.nii.gz',\n",
       " '/home/jovyan/ClassData/LabResults/sid001551_2_Event.nii.gz',\n",
       " '/home/jovyan/ClassData/LabResults/sid001551_2_School.nii.gz',\n",
       " '/home/jovyan/ClassData/LabResults/sid001551_2_Social.nii.gz',\n",
       " '/home/jovyan/ClassData/LabResults/sid001551_3_Career.nii.gz',\n",
       " '/home/jovyan/ClassData/LabResults/sid001551_3_Event.nii.gz',\n",
       " '/home/jovyan/ClassData/LabResults/sid001551_3_School.nii.gz',\n",
       " '/home/jovyan/ClassData/LabResults/sid001551_3_Social.nii.gz',\n",
       " '/home/jovyan/ClassData/LabResults/sid001560_1_Career.nii.gz',\n",
       " '/home/jovyan/ClassData/LabResults/sid001560_1_Event.nii.gz',\n",
       " '/home/jovyan/ClassData/LabResults/sid001560_1_School.nii.gz',\n",
       " '/home/jovyan/ClassData/LabResults/sid001560_1_Social.nii.gz',\n",
       " '/home/jovyan/ClassData/LabResults/sid001560_2_Career.nii.gz',\n",
       " '/home/jovyan/ClassData/LabResults/sid001560_2_Event.nii.gz',\n",
       " '/home/jovyan/ClassData/LabResults/sid001560_2_School.nii.gz',\n",
       " '/home/jovyan/ClassData/LabResults/sid001560_2_Social.nii.gz',\n",
       " '/home/jovyan/ClassData/LabResults/sid001560_3_Career.nii.gz',\n",
       " '/home/jovyan/ClassData/LabResults/sid001560_3_Event.nii.gz',\n",
       " '/home/jovyan/ClassData/LabResults/sid001560_3_School.nii.gz',\n",
       " '/home/jovyan/ClassData/LabResults/sid001560_3_Social.nii.gz',\n",
       " '/home/jovyan/ClassData/LabResults/sid001561_1_Career.nii.gz',\n",
       " '/home/jovyan/ClassData/LabResults/sid001561_1_Event.nii.gz',\n",
       " '/home/jovyan/ClassData/LabResults/sid001561_1_School.nii.gz',\n",
       " '/home/jovyan/ClassData/LabResults/sid001561_1_Social.nii.gz',\n",
       " '/home/jovyan/ClassData/LabResults/sid001561_2_Career.nii.gz',\n",
       " '/home/jovyan/ClassData/LabResults/sid001561_2_Event.nii.gz',\n",
       " '/home/jovyan/ClassData/LabResults/sid001561_2_School.nii.gz',\n",
       " '/home/jovyan/ClassData/LabResults/sid001561_2_Social.nii.gz',\n",
       " '/home/jovyan/ClassData/LabResults/sid001561_3_Career.nii.gz',\n",
       " '/home/jovyan/ClassData/LabResults/sid001561_3_Event.nii.gz',\n",
       " '/home/jovyan/ClassData/LabResults/sid001561_3_School.nii.gz',\n",
       " '/home/jovyan/ClassData/LabResults/sid001561_3_Social.nii.gz',\n",
       " '/home/jovyan/ClassData/LabResults/sid001562_1_Career.nii.gz',\n",
       " '/home/jovyan/ClassData/LabResults/sid001562_1_Event.nii.gz',\n",
       " '/home/jovyan/ClassData/LabResults/sid001562_1_School.nii.gz',\n",
       " '/home/jovyan/ClassData/LabResults/sid001562_1_Social.nii.gz',\n",
       " '/home/jovyan/ClassData/LabResults/sid001562_2_Career.nii.gz',\n",
       " '/home/jovyan/ClassData/LabResults/sid001562_2_Event.nii.gz',\n",
       " '/home/jovyan/ClassData/LabResults/sid001562_2_School.nii.gz',\n",
       " '/home/jovyan/ClassData/LabResults/sid001562_2_Social.nii.gz',\n",
       " '/home/jovyan/ClassData/LabResults/sid001562_3_Career.nii.gz',\n",
       " '/home/jovyan/ClassData/LabResults/sid001562_3_Event.nii.gz',\n",
       " '/home/jovyan/ClassData/LabResults/sid001562_3_School.nii.gz',\n",
       " '/home/jovyan/ClassData/LabResults/sid001562_3_Social.nii.gz']"
      ]
     },
     "execution_count": 9,
     "metadata": {},
     "output_type": "execute_result"
    }
   ],
   "source": [
    "file_list"
   ]
  },
  {
   "cell_type": "code",
   "execution_count": 45,
   "metadata": {},
   "outputs": [],
   "source": [
    "#list of coordinates here\n",
    "coords=np.array([[24, -4, -20],[-22, -4, -20],\n",
    "               [26, -14, -18],[-26, -18, -18],\n",
    "               [2, 32, 22],\n",
    "               [2, -44, 66],[-26, -62, 68]])"
   ]
  },
  {
   "cell_type": "code",
   "execution_count": 46,
   "metadata": {},
   "outputs": [
    {
     "data": {
      "text/plain": [
       "array([[ 24,  -4, -20],\n",
       "       [-22,  -4, -20],\n",
       "       [ 26, -14, -18],\n",
       "       [-26, -18, -18],\n",
       "       [  2,  32,  22],\n",
       "       [  2, -44,  66],\n",
       "       [-26, -62,  68]])"
      ]
     },
     "execution_count": 46,
     "metadata": {},
     "output_type": "execute_result"
    }
   ],
   "source": [
    "coords"
   ]
  },
  {
   "cell_type": "code",
   "execution_count": 47,
   "metadata": {},
   "outputs": [],
   "source": [
    "#img=nilearn.image.load_img(glob.glob('/home/jovyan/ClassData/LabResults/*_1_Social.nii.gz'))\n"
   ]
  },
  {
   "cell_type": "code",
   "execution_count": 48,
   "metadata": {},
   "outputs": [],
   "source": [
    "img = nilearn.image.load_img(file_list[0])"
   ]
  },
  {
   "cell_type": "code",
   "execution_count": 49,
   "metadata": {},
   "outputs": [],
   "source": [
    "spheres_masker = input_data.NiftiSpheresMasker(\n",
    "    seeds=coords, smoothing_fwhm=4, radius=5.,\n",
    "    detrend=False, standardize=False)"
   ]
  },
  {
   "cell_type": "code",
   "execution_count": 50,
   "metadata": {},
   "outputs": [],
   "source": [
    "values = spheres_masker.fit_transform(file_list[0])"
   ]
  },
  {
   "cell_type": "code",
   "execution_count": 51,
   "metadata": {},
   "outputs": [
    {
     "data": {
      "text/plain": [
       "array([[-0.32659897, -0.22785337, -0.3080268 , -0.00186784, -0.14229125,\n",
       "        -0.43305948, -0.7533148 ]], dtype=float32)"
      ]
     },
     "execution_count": 51,
     "metadata": {},
     "output_type": "execute_result"
    }
   ],
   "source": [
    "values"
   ]
  },
  {
   "cell_type": "code",
   "execution_count": 52,
   "metadata": {},
   "outputs": [],
   "source": [
    "values= np.empty((0, 7))\n",
    "for file in file_list:\n",
    "    temp = spheres_masker.fit_transform(file)\n",
    "    values=np.append(values,temp,axis=0)"
   ]
  },
  {
   "cell_type": "code",
   "execution_count": 55,
   "metadata": {},
   "outputs": [
    {
     "data": {
      "text/plain": [
       "(120, 7)"
      ]
     },
     "execution_count": 55,
     "metadata": {},
     "output_type": "execute_result"
    }
   ],
   "source": [
    "values.shape"
   ]
  },
  {
   "cell_type": "code",
   "execution_count": 58,
   "metadata": {},
   "outputs": [
    {
     "data": {
      "text/plain": [
       "0"
      ]
     },
     "execution_count": 58,
     "metadata": {},
     "output_type": "execute_result"
    }
   ],
   "source": [
    "len(list_)"
   ]
  },
  {
   "cell_type": "markdown",
   "metadata": {},
   "source": [
    "# Make dataframe"
   ]
  },
  {
   "cell_type": "code",
   "execution_count": 61,
   "metadata": {},
   "outputs": [],
   "source": [
    "# dont run\n",
    "list_ = []\n",
    "for i in range(0,len(file_list)):\n",
    "    tryy = file_list[i] \n",
    "    tryyy=os.path.splitext(os.path.split(tryy)[1])[0]\n",
    "    tryyyy=os.path.splitext(os.path.split(tryyy)[1])[0]\n",
    "    list_.append(tryyy)\n"
   ]
  },
  {
   "cell_type": "code",
   "execution_count": 56,
   "metadata": {},
   "outputs": [],
   "source": [
    "list_ = []\n",
    "sub = []\n",
    "run = []\n",
    "category = []\n",
    "for i in range(0,len(file_list)):\n",
    "    tryy = file_list[i] \n",
    "    tryyy=os.path.splitext(os.path.split(tryy)[1])[0]\n",
    "    tryyyy=os.path.splitext(os.path.split(tryyy)[1])[0]\n",
    "    s=tryyyy.split(\"_\")[0]\n",
    "    r=tryyyy.split(\"_\")[1]\n",
    "    c=tryyyy.split(\"_\")[2]\n",
    "    sub.append(s)\n",
    "    run.append(r)\n",
    "    category.append(c)\n"
   ]
  },
  {
   "cell_type": "code",
   "execution_count": 71,
   "metadata": {},
   "outputs": [
    {
     "data": {
      "text/plain": [
       "'Event.nii'"
      ]
     },
     "execution_count": 71,
     "metadata": {},
     "output_type": "execute_result"
    }
   ],
   "source": [
    "str=list_[1]\n",
    "str.split(\"_\")[2]"
   ]
  },
  {
   "cell_type": "code",
   "execution_count": 57,
   "metadata": {},
   "outputs": [
    {
     "data": {
      "text/plain": [
       "120"
      ]
     },
     "execution_count": 57,
     "metadata": {},
     "output_type": "execute_result"
    }
   ],
   "source": [
    "len(category)"
   ]
  },
  {
   "cell_type": "code",
   "execution_count": 65,
   "metadata": {},
   "outputs": [],
   "source": [
    "dataset = pd.DataFrame({'Subject': sub,'Run': run, 'Category': category,\n",
    "                        \"Amygdala_Right\": values[:, 0], \"Amygdala_Left\": values[:, 1],\n",
    "                        \"Hippocampus_Right\": values[:, 2],\"Hippocampus_Left\": values[:, 3],\n",
    "                        \"CingulateCortex\": values[:, 4],\n",
    "                        \"OccipitalParietal_Right\": values[:, 5],\"OccipitalParietal_Left\": values[:, 6]\n",
    "                       })"
   ]
  },
  {
   "cell_type": "code",
   "execution_count": 14,
   "metadata": {},
   "outputs": [
    {
     "data": {
      "text/html": [
       "<div>\n",
       "<style scoped>\n",
       "    .dataframe tbody tr th:only-of-type {\n",
       "        vertical-align: middle;\n",
       "    }\n",
       "\n",
       "    .dataframe tbody tr th {\n",
       "        vertical-align: top;\n",
       "    }\n",
       "\n",
       "    .dataframe thead th {\n",
       "        text-align: right;\n",
       "    }\n",
       "</style>\n",
       "<table border=\"1\" class=\"dataframe\">\n",
       "  <thead>\n",
       "    <tr style=\"text-align: right;\">\n",
       "      <th></th>\n",
       "      <th>Unnamed: 0</th>\n",
       "      <th>Subject</th>\n",
       "      <th>Run</th>\n",
       "      <th>Category</th>\n",
       "      <th>Amygdala_Right</th>\n",
       "      <th>Amygdala_Left</th>\n",
       "      <th>Hippocampus_Right</th>\n",
       "      <th>Hippocampus_Left</th>\n",
       "      <th>CingulateCortex</th>\n",
       "      <th>OccipitalParietal_Right</th>\n",
       "      <th>OccipitalParietal_Left</th>\n",
       "    </tr>\n",
       "  </thead>\n",
       "  <tbody>\n",
       "    <tr>\n",
       "      <th>0</th>\n",
       "      <td>0</td>\n",
       "      <td>sid000006</td>\n",
       "      <td>1</td>\n",
       "      <td>Career</td>\n",
       "      <td>-0.326599</td>\n",
       "      <td>-0.227853</td>\n",
       "      <td>-0.308027</td>\n",
       "      <td>-0.001868</td>\n",
       "      <td>-0.142291</td>\n",
       "      <td>-0.433059</td>\n",
       "      <td>-0.753315</td>\n",
       "    </tr>\n",
       "    <tr>\n",
       "      <th>1</th>\n",
       "      <td>1</td>\n",
       "      <td>sid000006</td>\n",
       "      <td>1</td>\n",
       "      <td>Event</td>\n",
       "      <td>-0.611559</td>\n",
       "      <td>-0.752813</td>\n",
       "      <td>-0.431570</td>\n",
       "      <td>-0.412553</td>\n",
       "      <td>-0.014250</td>\n",
       "      <td>-0.824741</td>\n",
       "      <td>-0.427617</td>\n",
       "    </tr>\n",
       "    <tr>\n",
       "      <th>2</th>\n",
       "      <td>2</td>\n",
       "      <td>sid000006</td>\n",
       "      <td>1</td>\n",
       "      <td>School</td>\n",
       "      <td>-0.251163</td>\n",
       "      <td>-0.162192</td>\n",
       "      <td>-0.179967</td>\n",
       "      <td>-0.187662</td>\n",
       "      <td>0.183228</td>\n",
       "      <td>-0.577435</td>\n",
       "      <td>-0.218058</td>\n",
       "    </tr>\n",
       "    <tr>\n",
       "      <th>3</th>\n",
       "      <td>3</td>\n",
       "      <td>sid000006</td>\n",
       "      <td>1</td>\n",
       "      <td>Social</td>\n",
       "      <td>-0.353722</td>\n",
       "      <td>-0.077538</td>\n",
       "      <td>-0.332599</td>\n",
       "      <td>-0.122749</td>\n",
       "      <td>0.089219</td>\n",
       "      <td>-0.903357</td>\n",
       "      <td>-0.265942</td>\n",
       "    </tr>\n",
       "    <tr>\n",
       "      <th>4</th>\n",
       "      <td>4</td>\n",
       "      <td>sid000006</td>\n",
       "      <td>2</td>\n",
       "      <td>Career</td>\n",
       "      <td>-0.483564</td>\n",
       "      <td>-0.638484</td>\n",
       "      <td>-0.365118</td>\n",
       "      <td>-0.689190</td>\n",
       "      <td>-1.135421</td>\n",
       "      <td>-0.380421</td>\n",
       "      <td>-0.043044</td>\n",
       "    </tr>\n",
       "    <tr>\n",
       "      <th>...</th>\n",
       "      <td>...</td>\n",
       "      <td>...</td>\n",
       "      <td>...</td>\n",
       "      <td>...</td>\n",
       "      <td>...</td>\n",
       "      <td>...</td>\n",
       "      <td>...</td>\n",
       "      <td>...</td>\n",
       "      <td>...</td>\n",
       "      <td>...</td>\n",
       "      <td>...</td>\n",
       "    </tr>\n",
       "    <tr>\n",
       "      <th>115</th>\n",
       "      <td>115</td>\n",
       "      <td>sid001562</td>\n",
       "      <td>2</td>\n",
       "      <td>Social</td>\n",
       "      <td>0.411590</td>\n",
       "      <td>0.250521</td>\n",
       "      <td>0.449049</td>\n",
       "      <td>0.275039</td>\n",
       "      <td>-0.072193</td>\n",
       "      <td>-0.537684</td>\n",
       "      <td>-0.005420</td>\n",
       "    </tr>\n",
       "    <tr>\n",
       "      <th>116</th>\n",
       "      <td>116</td>\n",
       "      <td>sid001562</td>\n",
       "      <td>3</td>\n",
       "      <td>Career</td>\n",
       "      <td>-0.269863</td>\n",
       "      <td>-0.470763</td>\n",
       "      <td>-0.512180</td>\n",
       "      <td>-0.314969</td>\n",
       "      <td>-0.341367</td>\n",
       "      <td>1.189146</td>\n",
       "      <td>-0.278457</td>\n",
       "    </tr>\n",
       "    <tr>\n",
       "      <th>117</th>\n",
       "      <td>117</td>\n",
       "      <td>sid001562</td>\n",
       "      <td>3</td>\n",
       "      <td>Event</td>\n",
       "      <td>0.667835</td>\n",
       "      <td>0.143194</td>\n",
       "      <td>1.109405</td>\n",
       "      <td>0.900281</td>\n",
       "      <td>0.041505</td>\n",
       "      <td>0.630876</td>\n",
       "      <td>0.360198</td>\n",
       "    </tr>\n",
       "    <tr>\n",
       "      <th>118</th>\n",
       "      <td>118</td>\n",
       "      <td>sid001562</td>\n",
       "      <td>3</td>\n",
       "      <td>School</td>\n",
       "      <td>-0.295949</td>\n",
       "      <td>0.144104</td>\n",
       "      <td>-0.246401</td>\n",
       "      <td>0.124466</td>\n",
       "      <td>-0.304313</td>\n",
       "      <td>-0.715601</td>\n",
       "      <td>-0.287037</td>\n",
       "    </tr>\n",
       "    <tr>\n",
       "      <th>119</th>\n",
       "      <td>119</td>\n",
       "      <td>sid001562</td>\n",
       "      <td>3</td>\n",
       "      <td>Social</td>\n",
       "      <td>0.063016</td>\n",
       "      <td>-0.068642</td>\n",
       "      <td>0.112545</td>\n",
       "      <td>0.075323</td>\n",
       "      <td>0.117259</td>\n",
       "      <td>-0.994466</td>\n",
       "      <td>-0.161297</td>\n",
       "    </tr>\n",
       "  </tbody>\n",
       "</table>\n",
       "<p>120 rows × 11 columns</p>\n",
       "</div>"
      ],
      "text/plain": [
       "     Unnamed: 0    Subject  Run Category  Amygdala_Right  Amygdala_Left  \\\n",
       "0             0  sid000006    1   Career       -0.326599      -0.227853   \n",
       "1             1  sid000006    1    Event       -0.611559      -0.752813   \n",
       "2             2  sid000006    1   School       -0.251163      -0.162192   \n",
       "3             3  sid000006    1   Social       -0.353722      -0.077538   \n",
       "4             4  sid000006    2   Career       -0.483564      -0.638484   \n",
       "..          ...        ...  ...      ...             ...            ...   \n",
       "115         115  sid001562    2   Social        0.411590       0.250521   \n",
       "116         116  sid001562    3   Career       -0.269863      -0.470763   \n",
       "117         117  sid001562    3    Event        0.667835       0.143194   \n",
       "118         118  sid001562    3   School       -0.295949       0.144104   \n",
       "119         119  sid001562    3   Social        0.063016      -0.068642   \n",
       "\n",
       "     Hippocampus_Right  Hippocampus_Left  CingulateCortex  \\\n",
       "0            -0.308027         -0.001868        -0.142291   \n",
       "1            -0.431570         -0.412553        -0.014250   \n",
       "2            -0.179967         -0.187662         0.183228   \n",
       "3            -0.332599         -0.122749         0.089219   \n",
       "4            -0.365118         -0.689190        -1.135421   \n",
       "..                 ...               ...              ...   \n",
       "115           0.449049          0.275039        -0.072193   \n",
       "116          -0.512180         -0.314969        -0.341367   \n",
       "117           1.109405          0.900281         0.041505   \n",
       "118          -0.246401          0.124466        -0.304313   \n",
       "119           0.112545          0.075323         0.117259   \n",
       "\n",
       "     OccipitalParietal_Right  OccipitalParietal_Left  \n",
       "0                  -0.433059               -0.753315  \n",
       "1                  -0.824741               -0.427617  \n",
       "2                  -0.577435               -0.218058  \n",
       "3                  -0.903357               -0.265942  \n",
       "4                  -0.380421               -0.043044  \n",
       "..                       ...                     ...  \n",
       "115                -0.537684               -0.005420  \n",
       "116                 1.189146               -0.278457  \n",
       "117                 0.630876                0.360198  \n",
       "118                -0.715601               -0.287037  \n",
       "119                -0.994466               -0.161297  \n",
       "\n",
       "[120 rows x 11 columns]"
      ]
     },
     "execution_count": 14,
     "metadata": {},
     "output_type": "execute_result"
    }
   ],
   "source": [
    " dataset\n",
    "#dataset = pd.read_csv('/home/jovyan/ClassData/LabResults/ROI_Results.csv')"
   ]
  },
  {
   "cell_type": "code",
   "execution_count": 67,
   "metadata": {},
   "outputs": [],
   "source": [
    "dataset.to_csv('/home/jovyan/ClassData/LabResults/ROI_Results.csv')"
   ]
  },
  {
   "cell_type": "markdown",
   "metadata": {},
   "source": [
    "# Run RSA using values mean values from all regions"
   ]
  },
  {
   "cell_type": "code",
   "execution_count": 35,
   "metadata": {},
   "outputs": [],
   "source": [
    "#career=dataset[dataset.Filename == '*Careernii.gz'].mean\n",
    "#school=dataset[dataset.Filename == '*School'].mean\n",
    "#social=dataset[dataset.Filename == '*Social'].mean\n",
    "#event=dataset[dataset.Filename == '*Event'].mean\n",
    "#allcategories=[career,social,event,school]\n",
    "#1-allcategories.corr"
   ]
  },
  {
   "cell_type": "markdown",
   "metadata": {},
   "source": [
    "## Creating function"
   ]
  },
  {
   "cell_type": "code",
   "execution_count": 74,
   "metadata": {},
   "outputs": [],
   "source": [
    "# was trying to create function here for each region so that we don't have to repeat the steps again\n",
    "def rsa_plot(region):\n",
    "    career = dataset[dataset.Category == 'Career'].region.mean()\n",
    "    school = dataset[dataset.Category == 'School'].region.mean()\n",
    "    social = dataset[dataset.Category == 'Social'].region.mean()\n",
    "    event = dataset[dataset.Category == 'Event'].region.mean()\n",
    "    list_ = [career,school,social,event]\n",
    "    \n",
    "    full = []\n",
    "    \n",
    "    for idx,x in enumerate(list_):\n",
    "        full.append([abs(x-y) for y in list_])\n",
    "    mat = np.array(full)\n",
    "    \n",
    "    x_axis_labels = ['Career','School','Social', 'Event' ] # labels for x-axis  \n",
    "    y_axis_labels = ['Career','School','Social', 'Event'] # labels for y-axis\n",
    "    sns.heatmap(mat, xticklabels=x_axis_labels, yticklabels=y_axis_labels)\n"
   ]
  },
  {
   "cell_type": "code",
   "execution_count": 1,
   "metadata": {},
   "outputs": [],
   "source": [
    "#reg = Amygdala_Right'\n",
    "#rsa_plot(reg)"
   ]
  },
  {
   "cell_type": "markdown",
   "metadata": {},
   "source": [
    "## For Amygdala"
   ]
  },
  {
   "cell_type": "markdown",
   "metadata": {},
   "source": [
    "### Right"
   ]
  },
  {
   "cell_type": "code",
   "execution_count": 15,
   "metadata": {},
   "outputs": [],
   "source": [
    "career = dataset[dataset.Category == 'Career'].Amygdala_Right.mean()\n",
    "school = dataset[dataset.Category == 'School'].Amygdala_Right.mean()\n",
    "social = dataset[dataset.Category == 'Social'].Amygdala_Right.mean()\n",
    "event = dataset[dataset.Category == 'Event'].Amygdala_Right.mean()\n",
    "\n",
    "#allcategories=[career,social,event,school]\n",
    "#1-allcategories.corr"
   ]
  },
  {
   "cell_type": "code",
   "execution_count": 16,
   "metadata": {},
   "outputs": [],
   "source": [
    "list_ = [career,school,social,event]\n",
    "\n",
    "full = []\n",
    "for idx,x in enumerate(list_):\n",
    "    full.append([abs(x-y) for y in list_])\n",
    "    \n",
    "mat = np.array(full)"
   ]
  },
  {
   "cell_type": "code",
   "execution_count": 17,
   "metadata": {},
   "outputs": [
    {
     "data": {
      "text/plain": [
       "array([[0.        , 0.11387002, 0.14891876, 0.07479347],\n",
       "       [0.11387002, 0.        , 0.03504874, 0.03907655],\n",
       "       [0.14891876, 0.03504874, 0.        , 0.0741253 ],\n",
       "       [0.07479347, 0.03907655, 0.0741253 , 0.        ]])"
      ]
     },
     "execution_count": 17,
     "metadata": {},
     "output_type": "execute_result"
    }
   ],
   "source": [
    "mat"
   ]
  },
  {
   "cell_type": "code",
   "execution_count": 19,
   "metadata": {},
   "outputs": [
    {
     "data": {
      "image/png": "[encoded data removed]",
      "text/plain": [
       "<Figure size 432x288 with 2 Axes>"
      ]
     },
     "metadata": {
      "needs_background": "light"
     },
     "output_type": "display_data"
    }
   ],
   "source": [
    "x_axis_labels = ['Career','School','Social', 'Event' ] # labels for x-axis\n",
    "y_axis_labels = ['Career','School','Social', 'Event'] # labels for y-axis\n",
    "\n",
    "sns.heatmap(mat, xticklabels=x_axis_labels, yticklabels=y_axis_labels)\n",
    "plt.title(\"Amygdala [Right]\", fontsize = 20) # title with fontsize 20\n",
    "plt.xlabel('Categories', fontsize = 15) # x-axis label with fontsize 15\n",
    "plt.ylabel('Categories', fontsize = 15) # y-axis label with fontsize 15\n",
    "plt.show()"
   ]
  },
  {
   "cell_type": "code",
   "execution_count": null,
   "metadata": {},
   "outputs": [],
   "source": [
    "#1-dataset[dataset.Filename == '*Career'].corr"
   ]
  },
  {
   "cell_type": "markdown",
   "metadata": {},
   "source": [
    "### Left"
   ]
  },
  {
   "cell_type": "code",
   "execution_count": 20,
   "metadata": {},
   "outputs": [],
   "source": [
    "career = dataset[dataset.Category == 'Career'].Amygdala_Left.mean()\n",
    "school = dataset[dataset.Category == 'School'].Amygdala_Left.mean()\n",
    "social = dataset[dataset.Category == 'Social'].Amygdala_Left.mean()\n",
    "event = dataset[dataset.Category == 'Event'].Amygdala_Left.mean()\n",
    "\n",
    "list_ = [career,school,social,event]\n",
    "\n",
    "full = []\n",
    "for idx,x in enumerate(list_):\n",
    "    full.append([abs(x-y) for y in list_])\n",
    "    \n",
    "mat = np.array(full)"
   ]
  },
  {
   "cell_type": "code",
   "execution_count": 22,
   "metadata": {},
   "outputs": [
    {
     "data": {
      "image/png": "[encoded data removed]",
      "text/plain": [
       "<Figure size 432x288 with 2 Axes>"
      ]
     },
     "metadata": {
      "needs_background": "light"
     },
     "output_type": "display_data"
    }
   ],
   "source": [
    "x_axis_labels = ['Career','School','Social', 'Event' ] # labels for x-axis\n",
    "y_axis_labels = ['Career','School','Social', 'Event'] # labels for y-axis\n",
    "\n",
    "sns.heatmap(mat, xticklabels=x_axis_labels, yticklabels=y_axis_labels)\n",
    "plt.title(\"Amygdala [Left]\", fontsize = 20) # title with fontsize 20\n",
    "plt.xlabel('Categories', fontsize = 15) # x-axis label with fontsize 15\n",
    "plt.ylabel('Categories', fontsize = 15) # y-axis label with fontsize 15\n",
    "plt.show()"
   ]
  },
  {
   "cell_type": "markdown",
   "metadata": {},
   "source": [
    "## For Hippocampus"
   ]
  },
  {
   "cell_type": "markdown",
   "metadata": {},
   "source": [
    "### Right "
   ]
  },
  {
   "cell_type": "code",
   "execution_count": 26,
   "metadata": {},
   "outputs": [
    {
     "data": {
      "image/png": "[encoded data removed]",
      "text/plain": [
       "<Figure size 432x288 with 2 Axes>"
      ]
     },
     "metadata": {
      "needs_background": "light"
     },
     "output_type": "display_data"
    }
   ],
   "source": [
    "career = dataset[dataset.Category == 'Career'].Hippocampus_Right.mean()\n",
    "school = dataset[dataset.Category == 'School'].Hippocampus_Right.mean()\n",
    "social = dataset[dataset.Category == 'Social'].Hippocampus_Right.mean()\n",
    "event = dataset[dataset.Category == 'Event'].Hippocampus_Right.mean()\n",
    "\n",
    "list_ = [career,school,social,event]\n",
    "\n",
    "full = []\n",
    "for idx,x in enumerate(list_):\n",
    "    full.append([abs(x-y) for y in list_])\n",
    "    \n",
    "mat = np.array(full)\n",
    "\n",
    "x_axis_labels = ['Career','School','Social', 'Event'] # labels for x-axis\n",
    "y_axis_labels = ['Career','School','Social', 'Event'] # labels for y-axis\n",
    "\n",
    "sns.heatmap(mat, xticklabels=x_axis_labels, yticklabels=y_axis_labels)\n",
    "plt.title(\"Hippocampus (Right)\", fontsize = 20) # title with fontsize 20\n",
    "plt.xlabel('Categories', fontsize = 15) # x-axis label with fontsize 15\n",
    "plt.ylabel('Categories', fontsize = 15) # y-axis label with fontsize 15\n",
    "plt.show()"
   ]
  },
  {
   "cell_type": "markdown",
   "metadata": {},
   "source": [
    "### Left"
   ]
  },
  {
   "cell_type": "code",
   "execution_count": 25,
   "metadata": {},
   "outputs": [
    {
     "data": {
      "image/png": "[encoded data removed]",
      "text/plain": [
       "<Figure size 432x288 with 2 Axes>"
      ]
     },
     "metadata": {
      "needs_background": "light"
     },
     "output_type": "display_data"
    }
   ],
   "source": [
    "career = dataset[dataset.Category == 'Career'].Hippocampus_Left.mean()\n",
    "school = dataset[dataset.Category == 'School'].Hippocampus_Left.mean()\n",
    "social = dataset[dataset.Category == 'Social'].Hippocampus_Left.mean()\n",
    "event = dataset[dataset.Category == 'Event'].Hippocampus_Left.mean()\n",
    "\n",
    "list_ = [career,school,social,event]\n",
    "\n",
    "full = []\n",
    "for idx,x in enumerate(list_):\n",
    "    full.append([abs(x-y) for y in list_])\n",
    "    \n",
    "mat = np.array(full)\n",
    "\n",
    "x_axis_labels = ['Career','School','Social', 'Event' ] # labels for x-axis\n",
    "y_axis_labels = ['Career','School','Social', 'Event'] # labels for y-axis\n",
    "\n",
    "sns.heatmap(mat, xticklabels=x_axis_labels, yticklabels=y_axis_labels)\n",
    "plt.title(\"Hippocampus (Left)\", fontsize = 20) # title with fontsize 20\n",
    "plt.xlabel('Categories', fontsize = 15) # x-axis label with fontsize 15\n",
    "plt.ylabel('Categories', fontsize = 15) # y-axis label with fontsize 15\n",
    "plt.show()"
   ]
  },
  {
   "cell_type": "markdown",
   "metadata": {},
   "source": [
    "## For Cingulate Cortex"
   ]
  },
  {
   "cell_type": "code",
   "execution_count": 28,
   "metadata": {},
   "outputs": [
    {
     "data": {
      "image/png": "[encoded data removed]",
      "text/plain": [
       "<Figure size 432x288 with 2 Axes>"
      ]
     },
     "metadata": {
      "needs_background": "light"
     },
     "output_type": "display_data"
    }
   ],
   "source": [
    "career = dataset[dataset.Category == 'Career'].CingulateCortex.mean()\n",
    "school = dataset[dataset.Category == 'School'].CingulateCortex.mean()\n",
    "social = dataset[dataset.Category == 'Social'].CingulateCortex.mean()\n",
    "event = dataset[dataset.Category == 'Event'].CingulateCortex.mean()\n",
    "\n",
    "list_ = [career,school,social,event]\n",
    "\n",
    "full = []\n",
    "for idx,x in enumerate(list_):\n",
    "    full.append([abs(x-y) for y in list_])\n",
    "    \n",
    "mat = np.array(full)\n",
    "\n",
    "x_axis_labels = ['Career','School','Social', 'Event' ] # labels for x-axis\n",
    "y_axis_labels = ['Career','School','Social', 'Event'] # labels for y-axis\n",
    "\n",
    "sns.heatmap(mat, xticklabels=x_axis_labels, yticklabels=y_axis_labels)\n",
    "plt.title(\"Cingulate Cortex (Right)\", fontsize = 20) # title with fontsize 20\n",
    "plt.xlabel('Categories', fontsize = 15) # x-axis label with fontsize 15\n",
    "plt.ylabel('Categories', fontsize = 15) # y-axis label with fontsize 15\n",
    "plt.show()"
   ]
  },
  {
   "cell_type": "markdown",
   "metadata": {},
   "source": [
    "## For Occipital Parietal"
   ]
  },
  {
   "cell_type": "markdown",
   "metadata": {},
   "source": [
    "### Right "
   ]
  },
  {
   "cell_type": "code",
   "execution_count": 30,
   "metadata": {},
   "outputs": [
    {
     "data": {
      "image/png": "[encoded data removed]",
      "text/plain": [
       "<Figure size 432x288 with 2 Axes>"
      ]
     },
     "metadata": {
      "needs_background": "light"
     },
     "output_type": "display_data"
    }
   ],
   "source": [
    "career = dataset[dataset.Category == 'Career'].OccipitalParietal_Right.mean()\n",
    "school = dataset[dataset.Category == 'School'].OccipitalParietal_Right.mean()\n",
    "social = dataset[dataset.Category == 'Social'].OccipitalParietal_Right.mean()\n",
    "event = dataset[dataset.Category == 'Event'].OccipitalParietal_Right.mean()\n",
    "\n",
    "list_ = [career,school,social,event]\n",
    "\n",
    "full = []\n",
    "for idx,x in enumerate(list_):\n",
    "    full.append([abs(x-y) for y in list_])\n",
    "    \n",
    "mat = np.array(full)\n",
    "\n",
    "x_axis_labels = ['Career','School','Social', 'Event' ] # labels for x-axis\n",
    "y_axis_labels = ['Career','School','Social', 'Event'] # labels for y-axis\n",
    "\n",
    "sns.heatmap(mat, xticklabels=x_axis_labels, yticklabels=y_axis_labels)\n",
    "plt.title(\"OccipitalParietal (Right)\", fontsize = 20) # title with fontsize 20\n",
    "plt.xlabel('Categories', fontsize = 15) # x-axis label with fontsize 15\n",
    "plt.ylabel('Categories', fontsize = 15) # y-axis label with fontsize 15\n",
    "plt.show()"
   ]
  },
  {
   "cell_type": "code",
   "execution_count": 31,
   "metadata": {},
   "outputs": [
    {
     "data": {
      "image/png": "[encoded data removed]",
      "text/plain": [
       "<Figure size 432x288 with 2 Axes>"
      ]
     },
     "metadata": {
      "needs_background": "light"
     },
     "output_type": "display_data"
    }
   ],
   "source": [
    "career = dataset[dataset.Category == 'Career'].OccipitalParietal_Left.mean()\n",
    "school = dataset[dataset.Category == 'School'].OccipitalParietal_Left.mean()\n",
    "social = dataset[dataset.Category == 'Social'].OccipitalParietal_Left.mean()\n",
    "event = dataset[dataset.Category == 'Event'].OccipitalParietal_Left.mean()\n",
    "\n",
    "list_ = [career,school,social,event]\n",
    "\n",
    "full = []\n",
    "for idx,x in enumerate(list_):\n",
    "    full.append([abs(x-y) for y in list_])\n",
    "    \n",
    "mat = np.array(full)\n",
    "\n",
    "x_axis_labels = ['Career','School','Social', 'Event' ] # labels for x-axis\n",
    "y_axis_labels = ['Career','School','Social', 'Event'] # labels for y-axis\n",
    "\n",
    "sns.heatmap(mat, xticklabels=x_axis_labels, yticklabels=y_axis_labels)\n",
    "plt.title(\"OccipitalParietal (Left)\", fontsize = 20) # title with fontsize 20\n",
    "plt.xlabel('Categories', fontsize = 15) # x-axis label with fontsize 15\n",
    "plt.ylabel('Categories', fontsize = 15) # y-axis label with fontsize 15\n",
    "plt.show()"
   ]
  },
  {
   "cell_type": "code",
   "execution_count": null,
   "metadata": {},
   "outputs": [],
   "source": []
  }
 ],
 "metadata": {
  "kernelspec": {
   "display_name": "Python 3",
   "language": "python",
   "name": "python3"
  },
  "language_info": {
   "codemirror_mode": {
    "name": "ipython",
    "version": 3
   },
   "file_extension": ".py",
   "mimetype": "text/x-python",
   "name": "python",
   "nbconvert_exporter": "python",
   "pygments_lexer": "ipython3",
   "version": "3.7.2"
  }
 },
 "nbformat": 4,
 "nbformat_minor": 2
}
