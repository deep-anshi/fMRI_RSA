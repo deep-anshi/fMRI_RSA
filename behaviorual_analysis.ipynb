{
 "cells": [
  {
   "cell_type": "code",
   "execution_count": 11,
   "metadata": {},
   "outputs": [],
   "source": [
    "import os\n",
    "import pandas as pd\n",
    "import numpy as np\n",
    "import pandas as pd\n",
    "import seaborn as sns\n",
    "import matplotlib.pyplot as plt"
   ]
  },
  {
   "cell_type": "code",
   "execution_count": 12,
   "metadata": {},
   "outputs": [],
   "source": [
    "datadir='/home/jovyan/psych60_jhub/ClassData'\n",
    "\n",
    "#onsets = pd.read_excel('Onsets.xlsx')\n",
    "#75*3*10 [75 questions, 3 runs, 10 subjects]\n",
    "\n",
    "data = pd.read_csv('cleaned_behavioral.csv')\n",
    "event_1 = pd.read_csv(os.path.join(datadir, \"onsets1.csv\"), sep=\",\")\n",
    "event_2 = pd.read_csv(os.path.join(datadir, \"onsets2.csv\"), sep=\",\")\n",
    "event_3 = pd.read_csv(os.path.join(datadir, \"onsets3.csv\"), sep=\",\")\n",
    "a = event_1['trial_type']\n",
    "b = event_2['trial_type']\n",
    "c = event_3['trial_type']\n",
    "events = pd.concat([a, b, c])"
   ]
  },
  {
   "cell_type": "code",
   "execution_count": 13,
   "metadata": {},
   "outputs": [],
   "source": [
    "category = np.tile(events,10)\n",
    "data['category'] = category "
   ]
  },
  {
   "cell_type": "code",
   "execution_count": 14,
   "metadata": {},
   "outputs": [
    {
     "data": {
      "text/html": [
       "<div>\n",
       "<style scoped>\n",
       "    .dataframe tbody tr th:only-of-type {\n",
       "        vertical-align: middle;\n",
       "    }\n",
       "\n",
       "    .dataframe tbody tr th {\n",
       "        vertical-align: top;\n",
       "    }\n",
       "\n",
       "    .dataframe thead th {\n",
       "        text-align: right;\n",
       "    }\n",
       "</style>\n",
       "<table border=\"1\" class=\"dataframe\">\n",
       "  <thead>\n",
       "    <tr style=\"text-align: right;\">\n",
       "      <th></th>\n",
       "      <th>sID</th>\n",
       "      <th>question</th>\n",
       "      <th>category</th>\n",
       "      <th>order</th>\n",
       "      <th>response</th>\n",
       "    </tr>\n",
       "  </thead>\n",
       "  <tbody>\n",
       "    <tr>\n",
       "      <th>0</th>\n",
       "      <td>1548</td>\n",
       "      <td>Walking around Occom Pond</td>\n",
       "      <td>Social</td>\n",
       "      <td>1</td>\n",
       "      <td>1</td>\n",
       "    </tr>\n",
       "    <tr>\n",
       "      <th>1</th>\n",
       "      <td>1548</td>\n",
       "      <td>Getting your dream job</td>\n",
       "      <td>Career</td>\n",
       "      <td>1</td>\n",
       "      <td>2</td>\n",
       "    </tr>\n",
       "    <tr>\n",
       "      <th>2</th>\n",
       "      <td>1548</td>\n",
       "      <td>Being rejected by your dream job</td>\n",
       "      <td>Career</td>\n",
       "      <td>1</td>\n",
       "      <td>4</td>\n",
       "    </tr>\n",
       "    <tr>\n",
       "      <th>3</th>\n",
       "      <td>1548</td>\n",
       "      <td>Summer Break</td>\n",
       "      <td>Event</td>\n",
       "      <td>1</td>\n",
       "      <td>1</td>\n",
       "    </tr>\n",
       "    <tr>\n",
       "      <th>4</th>\n",
       "      <td>1548</td>\n",
       "      <td>Interviewing for internships</td>\n",
       "      <td>Career</td>\n",
       "      <td>1</td>\n",
       "      <td>3</td>\n",
       "    </tr>\n",
       "    <tr>\n",
       "      <th>...</th>\n",
       "      <td>...</td>\n",
       "      <td>...</td>\n",
       "      <td>...</td>\n",
       "      <td>...</td>\n",
       "      <td>...</td>\n",
       "    </tr>\n",
       "    <tr>\n",
       "      <th>70</th>\n",
       "      <td>1548</td>\n",
       "      <td>Waiting at Murphy's to meet a friend who is late</td>\n",
       "      <td>Social</td>\n",
       "      <td>1</td>\n",
       "      <td>1</td>\n",
       "    </tr>\n",
       "    <tr>\n",
       "      <th>71</th>\n",
       "      <td>1548</td>\n",
       "      <td>Coming back from study abroad</td>\n",
       "      <td>School</td>\n",
       "      <td>1</td>\n",
       "      <td>1</td>\n",
       "    </tr>\n",
       "    <tr>\n",
       "      <th>72</th>\n",
       "      <td>1548</td>\n",
       "      <td>The first snowfall</td>\n",
       "      <td>Event</td>\n",
       "      <td>1</td>\n",
       "      <td>1</td>\n",
       "    </tr>\n",
       "    <tr>\n",
       "      <th>73</th>\n",
       "      <td>1548</td>\n",
       "      <td>A class you need to finish your major is full</td>\n",
       "      <td>School</td>\n",
       "      <td>1</td>\n",
       "      <td>3</td>\n",
       "    </tr>\n",
       "    <tr>\n",
       "      <th>74</th>\n",
       "      <td>1548</td>\n",
       "      <td>Moving into a new dorm or house</td>\n",
       "      <td>School</td>\n",
       "      <td>1</td>\n",
       "      <td>2</td>\n",
       "    </tr>\n",
       "  </tbody>\n",
       "</table>\n",
       "<p>75 rows × 5 columns</p>\n",
       "</div>"
      ],
      "text/plain": [
       "     sID                                          question category  order  \\\n",
       "0   1548                         Walking around Occom Pond   Social      1   \n",
       "1   1548                            Getting your dream job   Career      1   \n",
       "2   1548                  Being rejected by your dream job   Career      1   \n",
       "3   1548                                      Summer Break    Event      1   \n",
       "4   1548                      Interviewing for internships   Career      1   \n",
       "..   ...                                               ...      ...    ...   \n",
       "70  1548  Waiting at Murphy's to meet a friend who is late   Social      1   \n",
       "71  1548                     Coming back from study abroad   School      1   \n",
       "72  1548                                The first snowfall    Event      1   \n",
       "73  1548     A class you need to finish your major is full   School      1   \n",
       "74  1548                   Moving into a new dorm or house   School      1   \n",
       "\n",
       "    response  \n",
       "0          1  \n",
       "1          2  \n",
       "2          4  \n",
       "3          1  \n",
       "4          3  \n",
       "..       ...  \n",
       "70         1  \n",
       "71         1  \n",
       "72         1  \n",
       "73         3  \n",
       "74         2  \n",
       "\n",
       "[75 rows x 5 columns]"
      ]
     },
     "execution_count": 14,
     "metadata": {},
     "output_type": "execute_result"
    }
   ],
   "source": [
    "response_data = data[['sID','question', 'category', 'order', 'response']]\n",
    "\n",
    "#for subject 1, run1 \n",
    "sub1_response_data = response_data[response_data['sID']==1548]\n",
    "run1_response_data = sub1_response_data[sub1_response_data['order']==1] \n",
    "run1_response_data\n",
    "\n",
    "#creating for loop\n",
    "#subjects = []\n",
    "#nrun ="
   ]
  },
  {
   "cell_type": "code",
   "execution_count": 15,
   "metadata": {},
   "outputs": [],
   "source": [
    "df = run1_response_data[['response','category']]"
   ]
  },
  {
   "cell_type": "code",
   "execution_count": 16,
   "metadata": {},
   "outputs": [],
   "source": [
    "social = df[df.category=='Social'].response.mean()\n",
    "school = df[df.category=='School'].response.mean()\n",
    "event = df[df.category=='Event'].response.mean()\n",
    "career = df[df.category=='Career'].response.mean()"
   ]
  },
  {
   "cell_type": "code",
   "execution_count": 17,
   "metadata": {},
   "outputs": [],
   "source": [
    "list_ = [career,school,social,event]\n",
    "\n",
    "full = []\n",
    "for idx,x in enumerate(list_):\n",
    "    full.append([abs(x-y) for y in list_])\n",
    "    \n",
    "mat = np.array(full)"
   ]
  },
  {
   "cell_type": "code",
   "execution_count": 18,
   "metadata": {
    "scrolled": true
   },
   "outputs": [
    {
     "data": {
      "text/plain": [
       "<matplotlib.axes._subplots.AxesSubplot at 0x7fbed9bd6cc0>"
      ]
     },
     "execution_count": 18,
     "metadata": {},
     "output_type": "execute_result"
    },
    {
     "data": {
      "image/png": "[encoded data removed]",
      "text/plain": [
       "<Figure size 432x288 with 2 Axes>"
      ]
     },
     "metadata": {
      "needs_background": "light"
     },
     "output_type": "display_data"
    }
   ],
   "source": [
    "x_axis_labels = ['Career','School','Social', 'Event' ] # labels for x-axis\n",
    "y_axis_labels = ['Career','School','Social', 'Event'] # labels for y-axis\n",
    "\n",
    "sns.heatmap(mat, xticklabels=x_axis_labels, yticklabels=y_axis_labels)"
   ]
  },
  {
   "cell_type": "markdown",
   "metadata": {},
   "source": [
    "## For all subjects over all runs"
   ]
  },
  {
   "cell_type": "code",
   "execution_count": 19,
   "metadata": {},
   "outputs": [],
   "source": [
    "response_data = data[['sID','question', 'category', 'order', 'response']]"
   ]
  },
  {
   "cell_type": "code",
   "execution_count": 20,
   "metadata": {},
   "outputs": [
    {
     "data": {
      "text/html": [
       "<div>\n",
       "<style scoped>\n",
       "    .dataframe tbody tr th:only-of-type {\n",
       "        vertical-align: middle;\n",
       "    }\n",
       "\n",
       "    .dataframe tbody tr th {\n",
       "        vertical-align: top;\n",
       "    }\n",
       "\n",
       "    .dataframe thead th {\n",
       "        text-align: right;\n",
       "    }\n",
       "</style>\n",
       "<table border=\"1\" class=\"dataframe\">\n",
       "  <thead>\n",
       "    <tr style=\"text-align: right;\">\n",
       "      <th></th>\n",
       "      <th>sID</th>\n",
       "      <th>question</th>\n",
       "      <th>category</th>\n",
       "      <th>order</th>\n",
       "      <th>response</th>\n",
       "    </tr>\n",
       "  </thead>\n",
       "  <tbody>\n",
       "    <tr>\n",
       "      <th>0</th>\n",
       "      <td>1548</td>\n",
       "      <td>Walking around Occom Pond</td>\n",
       "      <td>Social</td>\n",
       "      <td>1</td>\n",
       "      <td>1</td>\n",
       "    </tr>\n",
       "    <tr>\n",
       "      <th>1</th>\n",
       "      <td>1548</td>\n",
       "      <td>Getting your dream job</td>\n",
       "      <td>Career</td>\n",
       "      <td>1</td>\n",
       "      <td>2</td>\n",
       "    </tr>\n",
       "    <tr>\n",
       "      <th>2</th>\n",
       "      <td>1548</td>\n",
       "      <td>Being rejected by your dream job</td>\n",
       "      <td>Career</td>\n",
       "      <td>1</td>\n",
       "      <td>4</td>\n",
       "    </tr>\n",
       "    <tr>\n",
       "      <th>3</th>\n",
       "      <td>1548</td>\n",
       "      <td>Summer Break</td>\n",
       "      <td>Event</td>\n",
       "      <td>1</td>\n",
       "      <td>1</td>\n",
       "    </tr>\n",
       "    <tr>\n",
       "      <th>4</th>\n",
       "      <td>1548</td>\n",
       "      <td>Interviewing for internships</td>\n",
       "      <td>Career</td>\n",
       "      <td>1</td>\n",
       "      <td>3</td>\n",
       "    </tr>\n",
       "    <tr>\n",
       "      <th>...</th>\n",
       "      <td>...</td>\n",
       "      <td>...</td>\n",
       "      <td>...</td>\n",
       "      <td>...</td>\n",
       "      <td>...</td>\n",
       "    </tr>\n",
       "    <tr>\n",
       "      <th>2245</th>\n",
       "      <td>747</td>\n",
       "      <td>Studying in the library</td>\n",
       "      <td>School</td>\n",
       "      <td>3</td>\n",
       "      <td>0</td>\n",
       "    </tr>\n",
       "    <tr>\n",
       "      <th>2246</th>\n",
       "      <td>747</td>\n",
       "      <td>Winter Carnival</td>\n",
       "      <td>Event</td>\n",
       "      <td>3</td>\n",
       "      <td>0</td>\n",
       "    </tr>\n",
       "    <tr>\n",
       "      <th>2247</th>\n",
       "      <td>747</td>\n",
       "      <td>Homecoming</td>\n",
       "      <td>Event</td>\n",
       "      <td>3</td>\n",
       "      <td>0</td>\n",
       "    </tr>\n",
       "    <tr>\n",
       "      <th>2248</th>\n",
       "      <td>747</td>\n",
       "      <td>Getting a text from your ex</td>\n",
       "      <td>Social</td>\n",
       "      <td>3</td>\n",
       "      <td>0</td>\n",
       "    </tr>\n",
       "    <tr>\n",
       "      <th>2249</th>\n",
       "      <td>747</td>\n",
       "      <td>Waiting at Murphy's to meet a friend who is late</td>\n",
       "      <td>Social</td>\n",
       "      <td>3</td>\n",
       "      <td>0</td>\n",
       "    </tr>\n",
       "  </tbody>\n",
       "</table>\n",
       "<p>2250 rows × 5 columns</p>\n",
       "</div>"
      ],
      "text/plain": [
       "       sID                                          question category  order  \\\n",
       "0     1548                         Walking around Occom Pond   Social      1   \n",
       "1     1548                            Getting your dream job   Career      1   \n",
       "2     1548                  Being rejected by your dream job   Career      1   \n",
       "3     1548                                      Summer Break    Event      1   \n",
       "4     1548                      Interviewing for internships   Career      1   \n",
       "...    ...                                               ...      ...    ...   \n",
       "2245   747                           Studying in the library   School      3   \n",
       "2246   747                                   Winter Carnival    Event      3   \n",
       "2247   747                                        Homecoming    Event      3   \n",
       "2248   747                       Getting a text from your ex   Social      3   \n",
       "2249   747  Waiting at Murphy's to meet a friend who is late   Social      3   \n",
       "\n",
       "      response  \n",
       "0            1  \n",
       "1            2  \n",
       "2            4  \n",
       "3            1  \n",
       "4            3  \n",
       "...        ...  \n",
       "2245         0  \n",
       "2246         0  \n",
       "2247         0  \n",
       "2248         0  \n",
       "2249         0  \n",
       "\n",
       "[2250 rows x 5 columns]"
      ]
     },
     "execution_count": 20,
     "metadata": {},
     "output_type": "execute_result"
    }
   ],
   "source": [
    "response_data "
   ]
  },
  {
   "cell_type": "code",
   "execution_count": 21,
   "metadata": {},
   "outputs": [
    {
     "data": {
      "text/html": [
       "<div>\n",
       "<style scoped>\n",
       "    .dataframe tbody tr th:only-of-type {\n",
       "        vertical-align: middle;\n",
       "    }\n",
       "\n",
       "    .dataframe tbody tr th {\n",
       "        vertical-align: top;\n",
       "    }\n",
       "\n",
       "    .dataframe thead th {\n",
       "        text-align: right;\n",
       "    }\n",
       "</style>\n",
       "<table border=\"1\" class=\"dataframe\">\n",
       "  <thead>\n",
       "    <tr style=\"text-align: right;\">\n",
       "      <th></th>\n",
       "      <th>sID</th>\n",
       "      <th>question</th>\n",
       "      <th>category</th>\n",
       "      <th>order</th>\n",
       "      <th>response</th>\n",
       "    </tr>\n",
       "  </thead>\n",
       "  <tbody>\n",
       "    <tr>\n",
       "      <th>0</th>\n",
       "      <td>1548</td>\n",
       "      <td>Walking around Occom Pond</td>\n",
       "      <td>Social</td>\n",
       "      <td>1</td>\n",
       "      <td>1</td>\n",
       "    </tr>\n",
       "    <tr>\n",
       "      <th>1</th>\n",
       "      <td>1548</td>\n",
       "      <td>Getting your dream job</td>\n",
       "      <td>Career</td>\n",
       "      <td>1</td>\n",
       "      <td>2</td>\n",
       "    </tr>\n",
       "    <tr>\n",
       "      <th>2</th>\n",
       "      <td>1548</td>\n",
       "      <td>Being rejected by your dream job</td>\n",
       "      <td>Career</td>\n",
       "      <td>1</td>\n",
       "      <td>4</td>\n",
       "    </tr>\n",
       "    <tr>\n",
       "      <th>3</th>\n",
       "      <td>1548</td>\n",
       "      <td>Summer Break</td>\n",
       "      <td>Event</td>\n",
       "      <td>1</td>\n",
       "      <td>1</td>\n",
       "    </tr>\n",
       "    <tr>\n",
       "      <th>4</th>\n",
       "      <td>1548</td>\n",
       "      <td>Interviewing for internships</td>\n",
       "      <td>Career</td>\n",
       "      <td>1</td>\n",
       "      <td>3</td>\n",
       "    </tr>\n",
       "    <tr>\n",
       "      <th>...</th>\n",
       "      <td>...</td>\n",
       "      <td>...</td>\n",
       "      <td>...</td>\n",
       "      <td>...</td>\n",
       "      <td>...</td>\n",
       "    </tr>\n",
       "    <tr>\n",
       "      <th>1795</th>\n",
       "      <td>6</td>\n",
       "      <td>Studying in the library</td>\n",
       "      <td>School</td>\n",
       "      <td>3</td>\n",
       "      <td>2</td>\n",
       "    </tr>\n",
       "    <tr>\n",
       "      <th>1796</th>\n",
       "      <td>6</td>\n",
       "      <td>Winter Carnival</td>\n",
       "      <td>Event</td>\n",
       "      <td>3</td>\n",
       "      <td>2</td>\n",
       "    </tr>\n",
       "    <tr>\n",
       "      <th>1797</th>\n",
       "      <td>6</td>\n",
       "      <td>Homecoming</td>\n",
       "      <td>Event</td>\n",
       "      <td>3</td>\n",
       "      <td>2</td>\n",
       "    </tr>\n",
       "    <tr>\n",
       "      <th>1798</th>\n",
       "      <td>6</td>\n",
       "      <td>Getting a text from your ex</td>\n",
       "      <td>Social</td>\n",
       "      <td>3</td>\n",
       "      <td>3</td>\n",
       "    </tr>\n",
       "    <tr>\n",
       "      <th>1799</th>\n",
       "      <td>6</td>\n",
       "      <td>Waiting at Murphy's to meet a friend who is late</td>\n",
       "      <td>Social</td>\n",
       "      <td>3</td>\n",
       "      <td>2</td>\n",
       "    </tr>\n",
       "  </tbody>\n",
       "</table>\n",
       "<p>1473 rows × 5 columns</p>\n",
       "</div>"
      ],
      "text/plain": [
       "       sID                                          question category  order  \\\n",
       "0     1548                         Walking around Occom Pond   Social      1   \n",
       "1     1548                            Getting your dream job   Career      1   \n",
       "2     1548                  Being rejected by your dream job   Career      1   \n",
       "3     1548                                      Summer Break    Event      1   \n",
       "4     1548                      Interviewing for internships   Career      1   \n",
       "...    ...                                               ...      ...    ...   \n",
       "1795     6                           Studying in the library   School      3   \n",
       "1796     6                                   Winter Carnival    Event      3   \n",
       "1797     6                                        Homecoming    Event      3   \n",
       "1798     6                       Getting a text from your ex   Social      3   \n",
       "1799     6  Waiting at Murphy's to meet a friend who is late   Social      3   \n",
       "\n",
       "      response  \n",
       "0            1  \n",
       "1            2  \n",
       "2            4  \n",
       "3            1  \n",
       "4            3  \n",
       "...        ...  \n",
       "1795         2  \n",
       "1796         2  \n",
       "1797         2  \n",
       "1798         3  \n",
       "1799         2  \n",
       "\n",
       "[1473 rows x 5 columns]"
      ]
     },
     "execution_count": 21,
     "metadata": {},
     "output_type": "execute_result"
    }
   ],
   "source": [
    "df = response_data \n",
    "df = df[(df.response != 0)]\n",
    "df"
   ]
  },
  {
   "cell_type": "code",
   "execution_count": 22,
   "metadata": {},
   "outputs": [
    {
     "name": "stdout",
     "output_type": "stream",
     "text": [
      "(1473, 5)\n",
      "(2250, 5)\n"
     ]
    }
   ],
   "source": [
    "print(df.shape)\n",
    "print(response_data.shape)"
   ]
  },
  {
   "cell_type": "code",
   "execution_count": 30,
   "metadata": {},
   "outputs": [
    {
     "data": {
      "text/plain": [
       "2250"
      ]
     },
     "execution_count": 30,
     "metadata": {},
     "output_type": "execute_result"
    }
   ],
   "source": [
    "75*10*3"
   ]
  },
  {
   "cell_type": "code",
   "execution_count": 23,
   "metadata": {},
   "outputs": [],
   "source": [
    "social = df[df.category=='Social'].response.mean()\n",
    "school = df[df.category=='School'].response.mean()\n",
    "event = df[df.category=='Event'].response.mean()\n",
    "career = df[df.category=='Career'].response.mean()\n"
   ]
  },
  {
   "cell_type": "code",
   "execution_count": 24,
   "metadata": {},
   "outputs": [],
   "source": [
    "list_ = [career,school,social,event]\n",
    "\n",
    "full = []\n",
    "for idx,x in enumerate(list_):\n",
    "    full.append([abs(x-y) for y in list_])\n",
    "    \n",
    "mat = np.array(full)"
   ]
  },
  {
   "cell_type": "code",
   "execution_count": 25,
   "metadata": {},
   "outputs": [
    {
     "data": {
      "text/plain": [
       "<matplotlib.axes._subplots.AxesSubplot at 0x7fbed9b12080>"
      ]
     },
     "execution_count": 25,
     "metadata": {},
     "output_type": "execute_result"
    },
    {
     "data": {
      "image/png": "[encoded data removed]",
      "text/plain": [
       "<Figure size 432x288 with 2 Axes>"
      ]
     },
     "metadata": {
      "needs_background": "light"
     },
     "output_type": "display_data"
    }
   ],
   "source": [
    "x_axis_labels = ['Career','School','Social', 'Event'] # labels for x-axis\n",
    "y_axis_labels = ['Career','School','Social', 'Event'] # labels for y-axis\n",
    "\n",
    "sns.heatmap(mat, xticklabels=x_axis_labels, yticklabels=y_axis_labels)\n"
   ]
  },
  {
   "cell_type": "code",
   "execution_count": 26,
   "metadata": {},
   "outputs": [
    {
     "data": {
      "text/plain": [
       "array([[0.        , 0.19297315, 1.1375615 , 1.48188805],\n",
       "       [0.19297315, 0.        , 0.94458835, 1.2889149 ],\n",
       "       [1.1375615 , 0.94458835, 0.        , 0.34432655],\n",
       "       [1.48188805, 1.2889149 , 0.34432655, 0.        ]])"
      ]
     },
     "execution_count": 26,
     "metadata": {},
     "output_type": "execute_result"
    }
   ],
   "source": [
    "mat"
   ]
  },
  {
   "cell_type": "markdown",
   "metadata": {},
   "source": [
    "## Comparison over 3 runs"
   ]
  },
  {
   "cell_type": "markdown",
   "metadata": {},
   "source": [
    "## Run1 "
   ]
  },
  {
   "cell_type": "code",
   "execution_count": 27,
   "metadata": {},
   "outputs": [
    {
     "data": {
      "text/plain": [
       "<matplotlib.axes._subplots.AxesSubplot at 0x7fbed9aa5048>"
      ]
     },
     "execution_count": 27,
     "metadata": {},
     "output_type": "execute_result"
    },
    {
     "data": {
      "image/png": "[encoded data removed]",
      "text/plain": [
       "<Figure size 432x288 with 2 Axes>"
      ]
     },
     "metadata": {
      "needs_background": "light"
     },
     "output_type": "display_data"
    }
   ],
   "source": [
    "df_run1 = response_data[response_data['order']==1]\n",
    "\n",
    "df_run1 = df_run1[(df_run1.response != 0)]\n",
    "\n",
    "social = df_run1[df_run1.category=='Social'].response.mean()\n",
    "school = df_run1[df_run1.category=='School'].response.mean()\n",
    "event = df_run1[df_run1.category=='Event'].response.mean()\n",
    "career = df_run1[df_run1.category=='Career'].response.mean()\n",
    "\n",
    "list_ = [career,school,social,event]\n",
    "\n",
    "full = []\n",
    "for idx,x in enumerate(list_):\n",
    "    full.append([abs(x-y) for y in list_])\n",
    "    \n",
    "mat = np.array(full)\n",
    "\n",
    "x_axis_labels = ['Career','School','Social', 'Event'] # labels for x-axis\n",
    "y_axis_labels = ['Career','School','Social', 'Event'] # labels for y-axis\n",
    "\n",
    "sns.heatmap(mat, xticklabels=x_axis_labels, yticklabels=y_axis_labels)\n"
   ]
  },
  {
   "cell_type": "code",
   "execution_count": null,
   "metadata": {},
   "outputs": [],
   "source": [
    "## R"
   ]
  },
  {
   "cell_type": "code",
   "execution_count": 28,
   "metadata": {},
   "outputs": [
    {
     "data": {
      "text/plain": [
       "<matplotlib.axes._subplots.AxesSubplot at 0x7fbed9a44668>"
      ]
     },
     "execution_count": 28,
     "metadata": {},
     "output_type": "execute_result"
    },
    {
     "data": {
      "image/png": "[encoded data removed]",
      "text/plain": [
       "<Figure size 432x288 with 2 Axes>"
      ]
     },
     "metadata": {
      "needs_background": "light"
     },
     "output_type": "display_data"
    }
   ],
   "source": [
    "df_run2 = response_data[response_data['order']==2]\n",
    "\n",
    "df_run2 = df_run2[(df_run2.response != 0)]\n",
    "\n",
    "social = df_run2[df_run2.category=='Social'].response.mean()\n",
    "school = df_run2[df_run2.category=='School'].response.mean()\n",
    "event = df_run2[df_run2.category=='Event'].response.mean()\n",
    "career = df_run2[df_run2.category=='Career'].response.mean()\n",
    "\n",
    "list_ = [career,school,social,event]\n",
    "\n",
    "full = []\n",
    "for idx,x in enumerate(list_):\n",
    "    full.append([abs(x-y) for y in list_])\n",
    "    \n",
    "mat = np.array(full)\n",
    "\n",
    "x_axis_labels = ['Career','School','Social', 'Event'] # labels for x-axis\n",
    "y_axis_labels = ['Career','School','Social', 'Event'] # labels for y-axis\n",
    "\n",
    "sns.heatmap(mat, xticklabels=x_axis_labels, yticklabels=y_axis_labels)\n"
   ]
  },
  {
   "cell_type": "code",
   "execution_count": 29,
   "metadata": {},
   "outputs": [
    {
     "data": {
      "text/plain": [
       "<matplotlib.axes._subplots.AxesSubplot at 0x7fbed9952a20>"
      ]
     },
     "execution_count": 29,
     "metadata": {},
     "output_type": "execute_result"
    },
    {
     "data": {
      "image/png": "[encoded data removed]",
      "text/plain": [
       "<Figure size 432x288 with 2 Axes>"
      ]
     },
     "metadata": {
      "needs_background": "light"
     },
     "output_type": "display_data"
    }
   ],
   "source": [
    "df_run3 = response_data[response_data['order']==3]\n",
    "\n",
    "df_run3 = df_run3[(df_run3.response != 0)]\n",
    "\n",
    "social = df_run3[df_run3.category=='Social'].response.mean()\n",
    "school = df_run3[df_run3.category=='School'].response.mean()\n",
    "event = df_run3[df_run3.category=='Event'].response.mean()\n",
    "career = df_run3[df_run3.category=='Career'].response.mean()\n",
    "\n",
    "list_ = [career,school,social,event]\n",
    "\n",
    "full = []\n",
    "for idx,x in enumerate(list_):\n",
    "    full.append([abs(x-y) for y in list_])\n",
    "    \n",
    "mat = np.array(full)\n",
    "\n",
    "x_axis_labels = ['Career','School','Social', 'Event'] # labels for x-axis\n",
    "y_axis_labels = ['Career','School','Social', 'Event'] # labels for y-axis\n",
    "\n",
    "sns.heatmap(mat, xticklabels=x_axis_labels, yticklabels=y_axis_labels)"
   ]
  },
  {
   "cell_type": "code",
   "execution_count": null,
   "metadata": {},
   "outputs": [],
   "source": []
  },
  {
   "cell_type": "code",
   "execution_count": null,
   "metadata": {},
   "outputs": [],
   "source": []
  },
  {
   "cell_type": "code",
   "execution_count": null,
   "metadata": {},
   "outputs": [],
   "source": []
  },
  {
   "cell_type": "code",
   "execution_count": null,
   "metadata": {},
   "outputs": [],
   "source": []
  }
 ],
 "metadata": {
  "kernelspec": {
   "display_name": "Python 3",
   "language": "python",
   "name": "python3"
  },
  "language_info": {
   "codemirror_mode": {
    "name": "ipython",
    "version": 3
   },
   "file_extension": ".py",
   "mimetype": "text/x-python",
   "name": "python",
   "nbconvert_exporter": "python",
   "pygments_lexer": "ipython3",
   "version": "3.7.2"
  }
 },
 "nbformat": 4,
 "nbformat_minor": 2
}
